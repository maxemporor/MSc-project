{
 "cells": [
  {
   "cell_type": "markdown",
   "id": "5e45fb82-dd8c-44e3-a453-3438857daed7",
   "metadata": {},
   "source": [
    "MSc Project"
   ]
  },
  {
   "cell_type": "markdown",
   "id": "a326a259-dc82-44b5-af4d-28aa3a1bbd99",
   "metadata": {},
   "source": [
    "This aim of this project is to find insights into socio-demographic and economic factors that matter to life satisfaction, the main research question is, What matters most to peoples life satisfaction. The data used in this project is from the UK Data Archive and its a Annual Population Survey Three-Year Pooled Dataset, January 2021 - December 2023."
   ]
  },
  {
   "cell_type": "code",
   "execution_count": 3,
   "id": "6bb8e691-ea91-42c8-ab17-a593abc4ae4b",
   "metadata": {},
   "outputs": [
    {
     "data": {
      "text/html": [
       "<div>\n",
       "<style scoped>\n",
       "    .dataframe tbody tr th:only-of-type {\n",
       "        vertical-align: middle;\n",
       "    }\n",
       "\n",
       "    .dataframe tbody tr th {\n",
       "        vertical-align: top;\n",
       "    }\n",
       "\n",
       "    .dataframe thead th {\n",
       "        text-align: right;\n",
       "    }\n",
       "</style>\n",
       "<table border=\"1\" class=\"dataframe\">\n",
       "  <thead>\n",
       "    <tr style=\"text-align: right;\">\n",
       "      <th></th>\n",
       "      <th>AAGE</th>\n",
       "      <th>ACTHR</th>\n",
       "      <th>ACTHR2</th>\n",
       "      <th>ACTPOT</th>\n",
       "      <th>ACTUOT</th>\n",
       "      <th>ACTWKDY1</th>\n",
       "      <th>ACTWKDY2</th>\n",
       "      <th>ACTWKDY3</th>\n",
       "      <th>ACTWKDY4</th>\n",
       "      <th>ACTWKDY5</th>\n",
       "      <th>...</th>\n",
       "      <th>XDISDDA20</th>\n",
       "      <th>Y2JOB</th>\n",
       "      <th>YLESS20</th>\n",
       "      <th>YMORE</th>\n",
       "      <th>YPAYL20</th>\n",
       "      <th>YPAYM</th>\n",
       "      <th>YPTJOB</th>\n",
       "      <th>YSTART</th>\n",
       "      <th>YTETJB</th>\n",
       "      <th>YVARY99</th>\n",
       "    </tr>\n",
       "  </thead>\n",
       "  <tbody>\n",
       "    <tr>\n",
       "      <th>0</th>\n",
       "      <td>13</td>\n",
       "      <td>NaN</td>\n",
       "      <td>NaN</td>\n",
       "      <td>NaN</td>\n",
       "      <td>NaN</td>\n",
       "      <td>2.0</td>\n",
       "      <td>3.0</td>\n",
       "      <td>NaN</td>\n",
       "      <td>NaN</td>\n",
       "      <td>NaN</td>\n",
       "      <td>...</td>\n",
       "      <td>4.0</td>\n",
       "      <td>NaN</td>\n",
       "      <td>NaN</td>\n",
       "      <td>NaN</td>\n",
       "      <td>NaN</td>\n",
       "      <td>NaN</td>\n",
       "      <td>4.0</td>\n",
       "      <td>NaN</td>\n",
       "      <td>NaN</td>\n",
       "      <td>NaN</td>\n",
       "    </tr>\n",
       "    <tr>\n",
       "      <th>1</th>\n",
       "      <td>13</td>\n",
       "      <td>NaN</td>\n",
       "      <td>NaN</td>\n",
       "      <td>NaN</td>\n",
       "      <td>NaN</td>\n",
       "      <td>NaN</td>\n",
       "      <td>NaN</td>\n",
       "      <td>NaN</td>\n",
       "      <td>NaN</td>\n",
       "      <td>NaN</td>\n",
       "      <td>...</td>\n",
       "      <td>4.0</td>\n",
       "      <td>NaN</td>\n",
       "      <td>NaN</td>\n",
       "      <td>NaN</td>\n",
       "      <td>NaN</td>\n",
       "      <td>NaN</td>\n",
       "      <td>NaN</td>\n",
       "      <td>NaN</td>\n",
       "      <td>NaN</td>\n",
       "      <td>NaN</td>\n",
       "    </tr>\n",
       "    <tr>\n",
       "      <th>2</th>\n",
       "      <td>11</td>\n",
       "      <td>NaN</td>\n",
       "      <td>NaN</td>\n",
       "      <td>NaN</td>\n",
       "      <td>NaN</td>\n",
       "      <td>NaN</td>\n",
       "      <td>NaN</td>\n",
       "      <td>NaN</td>\n",
       "      <td>NaN</td>\n",
       "      <td>NaN</td>\n",
       "      <td>...</td>\n",
       "      <td>1.0</td>\n",
       "      <td>NaN</td>\n",
       "      <td>NaN</td>\n",
       "      <td>NaN</td>\n",
       "      <td>NaN</td>\n",
       "      <td>NaN</td>\n",
       "      <td>NaN</td>\n",
       "      <td>NaN</td>\n",
       "      <td>NaN</td>\n",
       "      <td>NaN</td>\n",
       "    </tr>\n",
       "    <tr>\n",
       "      <th>3</th>\n",
       "      <td>12</td>\n",
       "      <td>NaN</td>\n",
       "      <td>NaN</td>\n",
       "      <td>NaN</td>\n",
       "      <td>NaN</td>\n",
       "      <td>NaN</td>\n",
       "      <td>NaN</td>\n",
       "      <td>NaN</td>\n",
       "      <td>NaN</td>\n",
       "      <td>NaN</td>\n",
       "      <td>...</td>\n",
       "      <td>1.0</td>\n",
       "      <td>NaN</td>\n",
       "      <td>NaN</td>\n",
       "      <td>NaN</td>\n",
       "      <td>NaN</td>\n",
       "      <td>NaN</td>\n",
       "      <td>NaN</td>\n",
       "      <td>5.0</td>\n",
       "      <td>NaN</td>\n",
       "      <td>NaN</td>\n",
       "    </tr>\n",
       "    <tr>\n",
       "      <th>4</th>\n",
       "      <td>13</td>\n",
       "      <td>NaN</td>\n",
       "      <td>NaN</td>\n",
       "      <td>NaN</td>\n",
       "      <td>NaN</td>\n",
       "      <td>NaN</td>\n",
       "      <td>NaN</td>\n",
       "      <td>NaN</td>\n",
       "      <td>NaN</td>\n",
       "      <td>NaN</td>\n",
       "      <td>...</td>\n",
       "      <td>4.0</td>\n",
       "      <td>NaN</td>\n",
       "      <td>NaN</td>\n",
       "      <td>NaN</td>\n",
       "      <td>NaN</td>\n",
       "      <td>NaN</td>\n",
       "      <td>NaN</td>\n",
       "      <td>NaN</td>\n",
       "      <td>NaN</td>\n",
       "      <td>NaN</td>\n",
       "    </tr>\n",
       "  </tbody>\n",
       "</table>\n",
       "<p>5 rows × 459 columns</p>\n",
       "</div>"
      ],
      "text/plain": [
       "   AAGE  ACTHR  ACTHR2  ACTPOT  ACTUOT  ACTWKDY1  ACTWKDY2  ACTWKDY3  \\\n",
       "0    13    NaN     NaN     NaN     NaN       2.0       3.0       NaN   \n",
       "1    13    NaN     NaN     NaN     NaN       NaN       NaN       NaN   \n",
       "2    11    NaN     NaN     NaN     NaN       NaN       NaN       NaN   \n",
       "3    12    NaN     NaN     NaN     NaN       NaN       NaN       NaN   \n",
       "4    13    NaN     NaN     NaN     NaN       NaN       NaN       NaN   \n",
       "\n",
       "   ACTWKDY4  ACTWKDY5  ...  XDISDDA20  Y2JOB  YLESS20  YMORE  YPAYL20  YPAYM  \\\n",
       "0       NaN       NaN  ...        4.0    NaN      NaN    NaN      NaN    NaN   \n",
       "1       NaN       NaN  ...        4.0    NaN      NaN    NaN      NaN    NaN   \n",
       "2       NaN       NaN  ...        1.0    NaN      NaN    NaN      NaN    NaN   \n",
       "3       NaN       NaN  ...        1.0    NaN      NaN    NaN      NaN    NaN   \n",
       "4       NaN       NaN  ...        4.0    NaN      NaN    NaN      NaN    NaN   \n",
       "\n",
       "   YPTJOB  YSTART  YTETJB  YVARY99  \n",
       "0     4.0     NaN     NaN      NaN  \n",
       "1     NaN     NaN     NaN      NaN  \n",
       "2     NaN     NaN     NaN      NaN  \n",
       "3     NaN     5.0     NaN      NaN  \n",
       "4     NaN     NaN     NaN      NaN  \n",
       "\n",
       "[5 rows x 459 columns]"
      ]
     },
     "execution_count": 3,
     "metadata": {},
     "output_type": "execute_result"
    }
   ],
   "source": [
    "import pandas as pd\n",
    "\n",
    "df = pd.read_csv(\n",
    "    'aps_3yr_jan21dec23_eul_withoutsmoking.tab',\n",
    "    delimiter='\\t',\n",
    "    low_memory=False,\n",
    "    dtype={\n",
    "        'CLAIMS14': 'Int64',  # nullable integer (handles -9 as NA)\n",
    "        'CombinedAuthorities': 'string'\n",
    "    },\n",
    "    na_values=[-9, -8]\n",
    ")\n",
    "\n",
    "# View the first few rows\n",
    "df.head()"
   ]
  },
  {
   "cell_type": "code",
   "execution_count": 4,
   "id": "85742853-43fd-43c0-898d-f7f9ec0635cb",
   "metadata": {},
   "outputs": [
    {
     "name": "stdout",
     "output_type": "stream",
     "text": [
      "<class 'pandas.core.frame.DataFrame'>\n",
      "RangeIndex: 341465 entries, 0 to 341464\n",
      "Columns: 459 entries, AAGE to YVARY99\n",
      "dtypes: Int64(1), float64(415), int64(28), object(14), string(1)\n",
      "memory usage: 1.2+ GB\n"
     ]
    }
   ],
   "source": [
    "df.info()"
   ]
  },
  {
   "cell_type": "markdown",
   "id": "faea073c-b87d-4b69-8dfc-31eb98432d47",
   "metadata": {},
   "source": [
    "There are 341465 entries and 459 attributes."
   ]
  },
  {
   "cell_type": "code",
   "execution_count": 6,
   "id": "3b98e217-46de-4d4e-83a0-b2c2404827a2",
   "metadata": {},
   "outputs": [
    {
     "data": {
      "text/plain": [
       "ACTHR       301195\n",
       "ACTHR2      335917\n",
       "ACTPOT      301195\n",
       "ACTUOT      301195\n",
       "ACTWKDY1    189572\n",
       "             ...  \n",
       "YPAYM       338804\n",
       "YPTJOB      299561\n",
       "YSTART      331251\n",
       "YTETJB      341277\n",
       "YVARY99     334901\n",
       "Length: 421, dtype: int64"
      ]
     },
     "execution_count": 6,
     "metadata": {},
     "output_type": "execute_result"
    }
   ],
   "source": [
    "# Count missing values in each column\n",
    "missing_counts = df.isna().sum()\n",
    "\n",
    "# Display missing values only for columns that have any\n",
    "missing_counts[missing_counts > 0]"
   ]
  },
  {
   "cell_type": "markdown",
   "id": "b1d91324-ff38-4920-b36f-98356ec1d4e1",
   "metadata": {},
   "source": [
    "The dataset shows high number of missing values."
   ]
  },
  {
   "cell_type": "markdown",
   "id": "99079182-4cb6-4407-b927-ec9321f25fb5",
   "metadata": {},
   "source": [
    "First to start off the MSc project we need a measurement for the personal wellbeing level of UK citizens.\n",
    "\n",
    "Pos.348(SATIS)-Overall, how satisfied are you with your life nowadays?\n",
    "\n",
    "Pos.441(WORTH)-Overall, to what extent do you feel the things you do in your life are worthwhile?\n",
    "\n",
    "Pos.122(HAPPY)-Overall, how happy did you feel yesterday?\n",
    "\n",
    "Pos.15(ANXIOUS)-Overall, how anxious did you feel yesterday?\n",
    "\n",
    "These 4 questions are about personal wellbeings and citizens are asked to respond on a scale of 0 to 10, making it easy for us to analyze. Estimates is then produced by taking the mean ratings of the 4 wellbeing questions. For life satisfaction, life worthwhile and happiness will be combined into one score and anxiety will be done seperatly because they dont mean the same for scores."
   ]
  },
  {
   "cell_type": "code",
   "execution_count": 9,
   "id": "c6b9919a-8dfc-44cb-87d3-29ce9d32b7f1",
   "metadata": {},
   "outputs": [
    {
     "data": {
      "text/html": [
       "<div>\n",
       "<style scoped>\n",
       "    .dataframe tbody tr th:only-of-type {\n",
       "        vertical-align: middle;\n",
       "    }\n",
       "\n",
       "    .dataframe tbody tr th {\n",
       "        vertical-align: top;\n",
       "    }\n",
       "\n",
       "    .dataframe thead th {\n",
       "        text-align: right;\n",
       "    }\n",
       "</style>\n",
       "<table border=\"1\" class=\"dataframe\">\n",
       "  <thead>\n",
       "    <tr style=\"text-align: right;\">\n",
       "      <th></th>\n",
       "      <th>SATIS</th>\n",
       "      <th>WORTH</th>\n",
       "      <th>HAPPY</th>\n",
       "      <th>Wellbeing</th>\n",
       "    </tr>\n",
       "  </thead>\n",
       "  <tbody>\n",
       "    <tr>\n",
       "      <th>0</th>\n",
       "      <td>8.0</td>\n",
       "      <td>8.0</td>\n",
       "      <td>7.0</td>\n",
       "      <td>7.666667</td>\n",
       "    </tr>\n",
       "    <tr>\n",
       "      <th>1</th>\n",
       "      <td>10.0</td>\n",
       "      <td>8.0</td>\n",
       "      <td>10.0</td>\n",
       "      <td>9.333333</td>\n",
       "    </tr>\n",
       "    <tr>\n",
       "      <th>2</th>\n",
       "      <td>10.0</td>\n",
       "      <td>9.0</td>\n",
       "      <td>10.0</td>\n",
       "      <td>9.666667</td>\n",
       "    </tr>\n",
       "    <tr>\n",
       "      <th>3</th>\n",
       "      <td>NaN</td>\n",
       "      <td>NaN</td>\n",
       "      <td>NaN</td>\n",
       "      <td>NaN</td>\n",
       "    </tr>\n",
       "    <tr>\n",
       "      <th>4</th>\n",
       "      <td>8.0</td>\n",
       "      <td>5.0</td>\n",
       "      <td>8.0</td>\n",
       "      <td>7.000000</td>\n",
       "    </tr>\n",
       "  </tbody>\n",
       "</table>\n",
       "</div>"
      ],
      "text/plain": [
       "   SATIS  WORTH  HAPPY  Wellbeing\n",
       "0    8.0    8.0    7.0   7.666667\n",
       "1   10.0    8.0   10.0   9.333333\n",
       "2   10.0    9.0   10.0   9.666667\n",
       "3    NaN    NaN    NaN        NaN\n",
       "4    8.0    5.0    8.0   7.000000"
      ]
     },
     "execution_count": 9,
     "metadata": {},
     "output_type": "execute_result"
    }
   ],
   "source": [
    "# Create Wellbeing column\n",
    "df['Wellbeing'] = df[['SATIS', 'WORTH', 'HAPPY']].mean(axis=1, skipna=True)\n",
    "\n",
    "# Check the result\n",
    "df[['SATIS', 'WORTH', 'HAPPY', 'Wellbeing']].head()"
   ]
  },
  {
   "cell_type": "markdown",
   "id": "56900440-e8fe-4852-bf46-8fc8a8c0fecf",
   "metadata": {},
   "source": [
    "The following code creates labels for hresholds for life satisfaction, worthwhile, happiness and anxiety scores."
   ]
  },
  {
   "cell_type": "code",
   "execution_count": 11,
   "id": "49a6916a-3786-47b8-a45d-8d48bf6c4291",
   "metadata": {},
   "outputs": [
    {
     "data": {
      "text/html": [
       "<div>\n",
       "<style scoped>\n",
       "    .dataframe tbody tr th:only-of-type {\n",
       "        vertical-align: middle;\n",
       "    }\n",
       "\n",
       "    .dataframe tbody tr th {\n",
       "        vertical-align: top;\n",
       "    }\n",
       "\n",
       "    .dataframe thead th {\n",
       "        text-align: right;\n",
       "    }\n",
       "</style>\n",
       "<table border=\"1\" class=\"dataframe\">\n",
       "  <thead>\n",
       "    <tr style=\"text-align: right;\">\n",
       "      <th></th>\n",
       "      <th>Wellbeing</th>\n",
       "      <th>Wellbeing_category</th>\n",
       "      <th>ANXIOUS</th>\n",
       "      <th>Anxiety_category</th>\n",
       "    </tr>\n",
       "  </thead>\n",
       "  <tbody>\n",
       "    <tr>\n",
       "      <th>0</th>\n",
       "      <td>7.666667</td>\n",
       "      <td>High</td>\n",
       "      <td>7.0</td>\n",
       "      <td>High</td>\n",
       "    </tr>\n",
       "    <tr>\n",
       "      <th>1</th>\n",
       "      <td>9.333333</td>\n",
       "      <td>Very high</td>\n",
       "      <td>0.0</td>\n",
       "      <td>Very low</td>\n",
       "    </tr>\n",
       "    <tr>\n",
       "      <th>2</th>\n",
       "      <td>9.666667</td>\n",
       "      <td>Very high</td>\n",
       "      <td>0.0</td>\n",
       "      <td>Very low</td>\n",
       "    </tr>\n",
       "    <tr>\n",
       "      <th>3</th>\n",
       "      <td>NaN</td>\n",
       "      <td>&lt;NA&gt;</td>\n",
       "      <td>NaN</td>\n",
       "      <td>&lt;NA&gt;</td>\n",
       "    </tr>\n",
       "    <tr>\n",
       "      <th>4</th>\n",
       "      <td>7.000000</td>\n",
       "      <td>High</td>\n",
       "      <td>1.0</td>\n",
       "      <td>Very low</td>\n",
       "    </tr>\n",
       "  </tbody>\n",
       "</table>\n",
       "</div>"
      ],
      "text/plain": [
       "   Wellbeing Wellbeing_category  ANXIOUS Anxiety_category\n",
       "0   7.666667               High      7.0             High\n",
       "1   9.333333          Very high      0.0         Very low\n",
       "2   9.666667          Very high      0.0         Very low\n",
       "3        NaN               <NA>      NaN             <NA>\n",
       "4   7.000000               High      1.0         Very low"
      ]
     },
     "execution_count": 11,
     "metadata": {},
     "output_type": "execute_result"
    }
   ],
   "source": [
    "def classify_wellbeing(score):\n",
    "    if pd.isna(score):\n",
    "        return pd.NA\n",
    "    elif score <= 4:\n",
    "        return 'Low'\n",
    "    elif score <= 6:\n",
    "        return 'Medium'\n",
    "    elif score <= 8:\n",
    "        return 'High'\n",
    "    else:\n",
    "        return 'Very high'\n",
    "\n",
    "df['Wellbeing_category'] = df['Wellbeing'].apply(classify_wellbeing)\n",
    "\n",
    "# Replace missing codes in ANXIOUS column\n",
    "df['ANXIOUS'] = df['ANXIOUS'].replace([-9, -8], pd.NA)\n",
    "\n",
    "def classify_anxiety(score):\n",
    "    if pd.isna(score):\n",
    "        return pd.NA\n",
    "    elif score <= 1:\n",
    "        return 'Very low'\n",
    "    elif score <= 3:\n",
    "        return 'Low'\n",
    "    elif score <= 5:\n",
    "        return 'Medium'\n",
    "    else:\n",
    "        return 'High'\n",
    "\n",
    "df['Anxiety_category'] = df['ANXIOUS'].apply(classify_anxiety)\n",
    "\n",
    "df[['Wellbeing', 'Wellbeing_category', 'ANXIOUS', 'Anxiety_category']].head()"
   ]
  },
  {
   "cell_type": "code",
   "execution_count": 12,
   "id": "1d0d42ad-f595-4136-b8e1-e1b6a1328f43",
   "metadata": {},
   "outputs": [
    {
     "data": {
      "text/plain": [
       "Wellbeing             169132\n",
       "Wellbeing_category    169132\n",
       "ANXIOUS               169369\n",
       "Anxiety_category      169369\n",
       "dtype: int64"
      ]
     },
     "execution_count": 12,
     "metadata": {},
     "output_type": "execute_result"
    }
   ],
   "source": [
    "df[['Wellbeing', 'Wellbeing_category', 'ANXIOUS', 'Anxiety_category']].isna().sum()"
   ]
  },
  {
   "cell_type": "markdown",
   "id": "3d5ec3bc-a179-41f5-a223-545fb3e656fb",
   "metadata": {},
   "source": [
    "Wellbeing and anxious is our 2 most important measurements, so if data are missing in both of these attributes predictions cannot be made, to prevent bias the entire row is dropped if both Wellbeing and ANXIOUS are missing."
   ]
  },
  {
   "cell_type": "code",
   "execution_count": 14,
   "id": "59a90a75-41d0-4d8e-86af-2480e24b7203",
   "metadata": {},
   "outputs": [
    {
     "data": {
      "text/plain": [
       "Wellbeing     11\n",
       "ANXIOUS      248\n",
       "dtype: int64"
      ]
     },
     "execution_count": 14,
     "metadata": {},
     "output_type": "execute_result"
    }
   ],
   "source": [
    "cleaned = df[~(df['Wellbeing'].isna() & df['ANXIOUS'].isna())]\n",
    "\n",
    "cleaned[['Wellbeing', 'ANXIOUS']].isna().sum()"
   ]
  },
  {
   "cell_type": "code",
   "execution_count": 15,
   "id": "1685e68f-1dd1-413e-8369-3d47698b8630",
   "metadata": {},
   "outputs": [],
   "source": [
    "# Redefine variable mapping\n",
    "#Presence of dependent and non-dependent children in the household\n",
    "#The relative deprivation of the area in which the individual lives,\n",
    "# Whether the area is urban or rural,\n",
    "#Mode of interview (telephone or personal interview)\n",
    "columns = {\n",
    "    'AGE': 'AAGE',\n",
    "    'SEX': 'SEX',\n",
    "    'ETHNICITY': 'ETHUKEUL',\n",
    "    'MIGRATION': 'NATIDB11',\n",
    "    'REL_STATUS': 'MARDY6',\n",
    "    'ECON_ACTIVITY': 'ILODEFR',\n",
    "    'TENURE': 'TEN1',\n",
    "    'HEALTH': 'HEALYR',\n",
    "    'DISABILITY': 'LIMACT',\n",
    "    'QUALIFICATION': 'HIQUL15D',\n",
    "    'SOCIO_ECON': 'NSECM20',\n",
    "    'RELIGION': 'RELIG11',\n",
    "    'REGION': 'GOR9d',\n",
    "}"
   ]
  },
  {
   "cell_type": "code",
   "execution_count": 51,
   "id": "abe407de-681e-49c0-9e0f-55c056244245",
   "metadata": {},
   "outputs": [
    {
     "data": {
      "text/plain": [
       "AAGE             0\n",
       "SEX              0\n",
       "ETHUKEUL       259\n",
       "NATIDB11       501\n",
       "MARDY6           0\n",
       "ILODEFR          0\n",
       "TEN1           182\n",
       "HEALYR      216990\n",
       "DISEA        75554\n",
       "HIQUL15D    280038\n",
       "GRSSWK      249693\n",
       "RELIG11      20828\n",
       "GOR9d            0\n",
       "dtype: int64"
      ]
     },
     "execution_count": 51,
     "metadata": {},
     "output_type": "execute_result"
    }
   ],
   "source": [
    "df[['AAGE','SEX','ETHUKEUL','NATIDB11','MARDY6','ILODEFR','TEN1','HEALYR','DISEA','HIQUL15D','GRSSWK','RELIG11','GOR9d']].isna().sum()"
   ]
  },
  {
   "cell_type": "code",
   "execution_count": 17,
   "id": "12d0be6f-ce73-4a57-a937-2eeb9e48e52d",
   "metadata": {},
   "outputs": [
    {
     "ename": "KeyError",
     "evalue": "['Wellbeing', 'ANXIOUS']",
     "output_type": "error",
     "traceback": [
      "\u001b[0;31m---------------------------------------------------------------------------\u001b[0m",
      "\u001b[0;31mKeyError\u001b[0m                                  Traceback (most recent call last)",
      "\u001b[0;32m/var/folders/mp/292yz46508zcc2jgqffkw1dw0000gn/T/ipykernel_1574/86140817.py\u001b[0m in \u001b[0;36m?\u001b[0;34m()\u001b[0m\n\u001b[1;32m      3\u001b[0m \u001b[0;31m# STEP 1: Subset required columns\u001b[0m\u001b[0;34m\u001b[0m\u001b[0;34m\u001b[0m\u001b[0m\n\u001b[1;32m      4\u001b[0m \u001b[0mmodel_df\u001b[0m \u001b[0;34m=\u001b[0m \u001b[0mcleaned\u001b[0m\u001b[0;34m[\u001b[0m\u001b[0;34m[\u001b[0m\u001b[0mv\u001b[0m \u001b[0;32mfor\u001b[0m \u001b[0mv\u001b[0m \u001b[0;32min\u001b[0m \u001b[0mcolumns\u001b[0m\u001b[0;34m.\u001b[0m\u001b[0mvalues\u001b[0m\u001b[0;34m(\u001b[0m\u001b[0;34m)\u001b[0m\u001b[0;34m]\u001b[0m\u001b[0;34m]\u001b[0m\u001b[0;34m.\u001b[0m\u001b[0mcopy\u001b[0m\u001b[0;34m(\u001b[0m\u001b[0;34m)\u001b[0m\u001b[0;34m\u001b[0m\u001b[0;34m\u001b[0m\u001b[0m\n\u001b[1;32m      5\u001b[0m \u001b[0;34m\u001b[0m\u001b[0m\n\u001b[1;32m      6\u001b[0m \u001b[0;31m# STEP 2: Drop rows with missing targets\u001b[0m\u001b[0;34m\u001b[0m\u001b[0;34m\u001b[0m\u001b[0m\n\u001b[0;32m----> 7\u001b[0;31m \u001b[0mmodel_df\u001b[0m \u001b[0;34m=\u001b[0m \u001b[0mmodel_df\u001b[0m\u001b[0;34m.\u001b[0m\u001b[0mdropna\u001b[0m\u001b[0;34m(\u001b[0m\u001b[0msubset\u001b[0m\u001b[0;34m=\u001b[0m\u001b[0;34m[\u001b[0m\u001b[0;34m'Wellbeing'\u001b[0m\u001b[0;34m,\u001b[0m \u001b[0;34m'ANXIOUS'\u001b[0m\u001b[0;34m]\u001b[0m\u001b[0;34m)\u001b[0m\u001b[0;34m\u001b[0m\u001b[0;34m\u001b[0m\u001b[0m\n\u001b[0m\u001b[1;32m      8\u001b[0m \u001b[0;34m\u001b[0m\u001b[0m\n\u001b[1;32m      9\u001b[0m \u001b[0;31m# STEP 3: Features and target\u001b[0m\u001b[0;34m\u001b[0m\u001b[0;34m\u001b[0m\u001b[0m\n\u001b[1;32m     10\u001b[0m \u001b[0mX\u001b[0m \u001b[0;34m=\u001b[0m \u001b[0mmodel_df\u001b[0m\u001b[0;34m.\u001b[0m\u001b[0mdrop\u001b[0m\u001b[0;34m(\u001b[0m\u001b[0mcolumns\u001b[0m\u001b[0;34m=\u001b[0m\u001b[0;34m[\u001b[0m\u001b[0;34m'Wellbeing'\u001b[0m\u001b[0;34m,\u001b[0m \u001b[0;34m'ANXIOUS'\u001b[0m\u001b[0;34m]\u001b[0m\u001b[0;34m)\u001b[0m\u001b[0;34m\u001b[0m\u001b[0;34m\u001b[0m\u001b[0m\n",
      "\u001b[0;32m/opt/anaconda3/lib/python3.12/site-packages/pandas/core/frame.py\u001b[0m in \u001b[0;36m?\u001b[0;34m(self, axis, how, thresh, subset, inplace, ignore_index)\u001b[0m\n\u001b[1;32m   6666\u001b[0m             \u001b[0max\u001b[0m \u001b[0;34m=\u001b[0m \u001b[0mself\u001b[0m\u001b[0;34m.\u001b[0m\u001b[0m_get_axis\u001b[0m\u001b[0;34m(\u001b[0m\u001b[0magg_axis\u001b[0m\u001b[0;34m)\u001b[0m\u001b[0;34m\u001b[0m\u001b[0;34m\u001b[0m\u001b[0m\n\u001b[1;32m   6667\u001b[0m             \u001b[0mindices\u001b[0m \u001b[0;34m=\u001b[0m \u001b[0max\u001b[0m\u001b[0;34m.\u001b[0m\u001b[0mget_indexer_for\u001b[0m\u001b[0;34m(\u001b[0m\u001b[0msubset\u001b[0m\u001b[0;34m)\u001b[0m\u001b[0;34m\u001b[0m\u001b[0;34m\u001b[0m\u001b[0m\n\u001b[1;32m   6668\u001b[0m             \u001b[0mcheck\u001b[0m \u001b[0;34m=\u001b[0m \u001b[0mindices\u001b[0m \u001b[0;34m==\u001b[0m \u001b[0;34m-\u001b[0m\u001b[0;36m1\u001b[0m\u001b[0;34m\u001b[0m\u001b[0;34m\u001b[0m\u001b[0m\n\u001b[1;32m   6669\u001b[0m             \u001b[0;32mif\u001b[0m \u001b[0mcheck\u001b[0m\u001b[0;34m.\u001b[0m\u001b[0many\u001b[0m\u001b[0;34m(\u001b[0m\u001b[0;34m)\u001b[0m\u001b[0;34m:\u001b[0m\u001b[0;34m\u001b[0m\u001b[0;34m\u001b[0m\u001b[0m\n\u001b[0;32m-> 6670\u001b[0;31m                 \u001b[0;32mraise\u001b[0m \u001b[0mKeyError\u001b[0m\u001b[0;34m(\u001b[0m\u001b[0mnp\u001b[0m\u001b[0;34m.\u001b[0m\u001b[0marray\u001b[0m\u001b[0;34m(\u001b[0m\u001b[0msubset\u001b[0m\u001b[0;34m)\u001b[0m\u001b[0;34m[\u001b[0m\u001b[0mcheck\u001b[0m\u001b[0;34m]\u001b[0m\u001b[0;34m.\u001b[0m\u001b[0mtolist\u001b[0m\u001b[0;34m(\u001b[0m\u001b[0;34m)\u001b[0m\u001b[0;34m)\u001b[0m\u001b[0;34m\u001b[0m\u001b[0;34m\u001b[0m\u001b[0m\n\u001b[0m\u001b[1;32m   6671\u001b[0m             \u001b[0magg_obj\u001b[0m \u001b[0;34m=\u001b[0m \u001b[0mself\u001b[0m\u001b[0;34m.\u001b[0m\u001b[0mtake\u001b[0m\u001b[0;34m(\u001b[0m\u001b[0mindices\u001b[0m\u001b[0;34m,\u001b[0m \u001b[0maxis\u001b[0m\u001b[0;34m=\u001b[0m\u001b[0magg_axis\u001b[0m\u001b[0;34m)\u001b[0m\u001b[0;34m\u001b[0m\u001b[0;34m\u001b[0m\u001b[0m\n\u001b[1;32m   6672\u001b[0m \u001b[0;34m\u001b[0m\u001b[0m\n\u001b[1;32m   6673\u001b[0m         \u001b[0;32mif\u001b[0m \u001b[0mthresh\u001b[0m \u001b[0;32mis\u001b[0m \u001b[0;32mnot\u001b[0m \u001b[0mlib\u001b[0m\u001b[0;34m.\u001b[0m\u001b[0mno_default\u001b[0m\u001b[0;34m:\u001b[0m\u001b[0;34m\u001b[0m\u001b[0;34m\u001b[0m\u001b[0m\n",
      "\u001b[0;31mKeyError\u001b[0m: ['Wellbeing', 'ANXIOUS']"
     ]
    }
   ],
   "source": [
    "from sklearn.model_selection import train_test_split\n",
    "\n",
    "# STEP 1: Subset required columns\n",
    "model_df = cleaned[[v for v in columns.values()]].copy()\n",
    "\n",
    "# STEP 2: Drop rows with missing targets\n",
    "model_df = model_df.dropna(subset=['Wellbeing', 'ANXIOUS'])\n",
    "\n",
    "# STEP 3: Features and target\n",
    "X = model_df.drop(columns=['Wellbeing', 'ANXIOUS'])\n",
    "y = model_df['Wellbeing']\n",
    "\n",
    "# STEP 4: One-hot encode categorical variables\n",
    "X_encoded = pd.get_dummies(X, drop_first=True)\n",
    "\n",
    "X_encoded = X_encoded.dropna()\n",
    "y = y[X_encoded.index]  # align y with cleaned X\n",
    "\n",
    "# STEP 5: Final split → 80% train, 20% test\n",
    "X_train, X_test, y_train, y_test = train_test_split(\n",
    "    X_encoded, y, test_size=0.2, random_state=42\n",
    ")\n",
    "\n",
    "# Confirm dimensions\n",
    "print(f\"Train: {X_train.shape}, Test: {X_test.shape}\")"
   ]
  },
  {
   "cell_type": "code",
   "execution_count": null,
   "id": "63089adb-9347-457b-bcb6-f8583228aa8f",
   "metadata": {},
   "outputs": [],
   "source": [
    "from sklearn.linear_model import LinearRegression\n",
    "from sklearn.metrics import mean_squared_error, r2_score\n",
    "\n",
    "# Initialize and train the model\n",
    "ols_model = LinearRegression()\n",
    "ols_model.fit(X_train, y_train)\n",
    "\n",
    "# Predict\n",
    "y_pred_ols = ols_model.predict(X_test)\n",
    "\n",
    "# Evaluate\n",
    "print(\"OLS Regression Results:\")\n",
    "print(f\"  R² Score: {r2_score(y_test, y_pred_ols):.4f}\")\n",
    "print(f\"  RMSE: {mean_squared_error(y_test, y_pred_ols, squared=False):.4f}\")"
   ]
  }
 ],
 "metadata": {
  "kernelspec": {
   "display_name": "Python 3 (ipykernel)",
   "language": "python",
   "name": "python3"
  },
  "language_info": {
   "codemirror_mode": {
    "name": "ipython",
    "version": 3
   },
   "file_extension": ".py",
   "mimetype": "text/x-python",
   "name": "python",
   "nbconvert_exporter": "python",
   "pygments_lexer": "ipython3",
   "version": "3.12.4"
  }
 },
 "nbformat": 4,
 "nbformat_minor": 5
}
