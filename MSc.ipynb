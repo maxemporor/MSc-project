{
 "cells": [
  {
   "cell_type": "markdown",
   "id": "5e45fb82-dd8c-44e3-a453-3438857daed7",
   "metadata": {},
   "source": [
    "MSc Project"
   ]
  },
  {
   "cell_type": "markdown",
   "id": "a326a259-dc82-44b5-af4d-28aa3a1bbd99",
   "metadata": {},
   "source": [
    "This aim of this project is to find insights into socio-demographic and economic factors that matter to life satisfaction, the main research question is, What matters most to peoples life satisfaction. The data used in this project is from the UK Data Archive and its a Annual Population Survey Three-Year Pooled Dataset, January 2021 - December 2023."
   ]
  },
  {
   "cell_type": "code",
   "execution_count": 3,
   "id": "6bb8e691-ea91-42c8-ab17-a593abc4ae4b",
   "metadata": {},
   "outputs": [
    {
     "data": {
      "text/html": [
       "<div>\n",
       "<style scoped>\n",
       "    .dataframe tbody tr th:only-of-type {\n",
       "        vertical-align: middle;\n",
       "    }\n",
       "\n",
       "    .dataframe tbody tr th {\n",
       "        vertical-align: top;\n",
       "    }\n",
       "\n",
       "    .dataframe thead th {\n",
       "        text-align: right;\n",
       "    }\n",
       "</style>\n",
       "<table border=\"1\" class=\"dataframe\">\n",
       "  <thead>\n",
       "    <tr style=\"text-align: right;\">\n",
       "      <th></th>\n",
       "      <th>AAGE</th>\n",
       "      <th>ACTHR</th>\n",
       "      <th>ACTHR2</th>\n",
       "      <th>ACTPOT</th>\n",
       "      <th>ACTUOT</th>\n",
       "      <th>ACTWKDY1</th>\n",
       "      <th>ACTWKDY2</th>\n",
       "      <th>ACTWKDY3</th>\n",
       "      <th>ACTWKDY4</th>\n",
       "      <th>ACTWKDY5</th>\n",
       "      <th>...</th>\n",
       "      <th>XDISDDA20</th>\n",
       "      <th>Y2JOB</th>\n",
       "      <th>YLESS20</th>\n",
       "      <th>YMORE</th>\n",
       "      <th>YPAYL20</th>\n",
       "      <th>YPAYM</th>\n",
       "      <th>YPTJOB</th>\n",
       "      <th>YSTART</th>\n",
       "      <th>YTETJB</th>\n",
       "      <th>YVARY99</th>\n",
       "    </tr>\n",
       "  </thead>\n",
       "  <tbody>\n",
       "    <tr>\n",
       "      <th>0</th>\n",
       "      <td>13</td>\n",
       "      <td>-9.0</td>\n",
       "      <td>-9.0</td>\n",
       "      <td>-9.0</td>\n",
       "      <td>-9.0</td>\n",
       "      <td>2.0</td>\n",
       "      <td>3</td>\n",
       "      <td>-9</td>\n",
       "      <td>-9</td>\n",
       "      <td>-9</td>\n",
       "      <td>...</td>\n",
       "      <td>4</td>\n",
       "      <td>-9</td>\n",
       "      <td>-9.0</td>\n",
       "      <td>-9.0</td>\n",
       "      <td>-9.0</td>\n",
       "      <td>-9.0</td>\n",
       "      <td>4.0</td>\n",
       "      <td>-9.0</td>\n",
       "      <td>-9.0</td>\n",
       "      <td>-9.0</td>\n",
       "    </tr>\n",
       "    <tr>\n",
       "      <th>1</th>\n",
       "      <td>13</td>\n",
       "      <td>-9.0</td>\n",
       "      <td>-9.0</td>\n",
       "      <td>-9.0</td>\n",
       "      <td>-9.0</td>\n",
       "      <td>-9.0</td>\n",
       "      <td>-9</td>\n",
       "      <td>-9</td>\n",
       "      <td>-9</td>\n",
       "      <td>-9</td>\n",
       "      <td>...</td>\n",
       "      <td>4</td>\n",
       "      <td>-9</td>\n",
       "      <td>-9.0</td>\n",
       "      <td>-9.0</td>\n",
       "      <td>-9.0</td>\n",
       "      <td>-9.0</td>\n",
       "      <td>-9.0</td>\n",
       "      <td>-9.0</td>\n",
       "      <td>-9.0</td>\n",
       "      <td>-9.0</td>\n",
       "    </tr>\n",
       "    <tr>\n",
       "      <th>2</th>\n",
       "      <td>11</td>\n",
       "      <td>-9.0</td>\n",
       "      <td>-9.0</td>\n",
       "      <td>-9.0</td>\n",
       "      <td>-9.0</td>\n",
       "      <td>-9.0</td>\n",
       "      <td>-9</td>\n",
       "      <td>-9</td>\n",
       "      <td>-9</td>\n",
       "      <td>-9</td>\n",
       "      <td>...</td>\n",
       "      <td>1</td>\n",
       "      <td>-9</td>\n",
       "      <td>-9.0</td>\n",
       "      <td>-9.0</td>\n",
       "      <td>-9.0</td>\n",
       "      <td>-9.0</td>\n",
       "      <td>-9.0</td>\n",
       "      <td>-9.0</td>\n",
       "      <td>-9.0</td>\n",
       "      <td>-9.0</td>\n",
       "    </tr>\n",
       "    <tr>\n",
       "      <th>3</th>\n",
       "      <td>12</td>\n",
       "      <td>-9.0</td>\n",
       "      <td>-9.0</td>\n",
       "      <td>-9.0</td>\n",
       "      <td>-9.0</td>\n",
       "      <td>-9.0</td>\n",
       "      <td>-9</td>\n",
       "      <td>-9</td>\n",
       "      <td>-9</td>\n",
       "      <td>-9</td>\n",
       "      <td>...</td>\n",
       "      <td>1</td>\n",
       "      <td>-9</td>\n",
       "      <td>-9.0</td>\n",
       "      <td>-9.0</td>\n",
       "      <td>-9.0</td>\n",
       "      <td>-9.0</td>\n",
       "      <td>-9.0</td>\n",
       "      <td>5.0</td>\n",
       "      <td>-9.0</td>\n",
       "      <td>-9.0</td>\n",
       "    </tr>\n",
       "    <tr>\n",
       "      <th>4</th>\n",
       "      <td>13</td>\n",
       "      <td>-9.0</td>\n",
       "      <td>-9.0</td>\n",
       "      <td>-9.0</td>\n",
       "      <td>-9.0</td>\n",
       "      <td>-9.0</td>\n",
       "      <td>-9</td>\n",
       "      <td>-9</td>\n",
       "      <td>-9</td>\n",
       "      <td>-9</td>\n",
       "      <td>...</td>\n",
       "      <td>4</td>\n",
       "      <td>-9</td>\n",
       "      <td>-9.0</td>\n",
       "      <td>-9.0</td>\n",
       "      <td>-9.0</td>\n",
       "      <td>-9.0</td>\n",
       "      <td>-9.0</td>\n",
       "      <td>-9.0</td>\n",
       "      <td>-9.0</td>\n",
       "      <td>-9.0</td>\n",
       "    </tr>\n",
       "  </tbody>\n",
       "</table>\n",
       "<p>5 rows × 459 columns</p>\n",
       "</div>"
      ],
      "text/plain": [
       "   AAGE  ACTHR  ACTHR2  ACTPOT  ACTUOT  ACTWKDY1  ACTWKDY2  ACTWKDY3  \\\n",
       "0    13   -9.0    -9.0    -9.0    -9.0       2.0         3        -9   \n",
       "1    13   -9.0    -9.0    -9.0    -9.0      -9.0        -9        -9   \n",
       "2    11   -9.0    -9.0    -9.0    -9.0      -9.0        -9        -9   \n",
       "3    12   -9.0    -9.0    -9.0    -9.0      -9.0        -9        -9   \n",
       "4    13   -9.0    -9.0    -9.0    -9.0      -9.0        -9        -9   \n",
       "\n",
       "   ACTWKDY4  ACTWKDY5  ...  XDISDDA20  Y2JOB  YLESS20  YMORE  YPAYL20  YPAYM  \\\n",
       "0        -9        -9  ...          4     -9     -9.0   -9.0     -9.0   -9.0   \n",
       "1        -9        -9  ...          4     -9     -9.0   -9.0     -9.0   -9.0   \n",
       "2        -9        -9  ...          1     -9     -9.0   -9.0     -9.0   -9.0   \n",
       "3        -9        -9  ...          1     -9     -9.0   -9.0     -9.0   -9.0   \n",
       "4        -9        -9  ...          4     -9     -9.0   -9.0     -9.0   -9.0   \n",
       "\n",
       "   YPTJOB  YSTART  YTETJB  YVARY99  \n",
       "0     4.0    -9.0    -9.0     -9.0  \n",
       "1    -9.0    -9.0    -9.0     -9.0  \n",
       "2    -9.0    -9.0    -9.0     -9.0  \n",
       "3    -9.0     5.0    -9.0     -9.0  \n",
       "4    -9.0    -9.0    -9.0     -9.0  \n",
       "\n",
       "[5 rows x 459 columns]"
      ]
     },
     "execution_count": 3,
     "metadata": {},
     "output_type": "execute_result"
    }
   ],
   "source": [
    "import pandas as pd\n",
    "\n",
    "df = pd.read_csv(\n",
    "    'aps_3yr_jan21dec23_eul_withoutsmoking.tab',\n",
    "    delimiter='\\t',\n",
    "    low_memory=False,\n",
    "    dtype={\n",
    "        'CLAIMS14': 'Int64',  # nullable integer (handles -9 as NA)\n",
    "        'CombinedAuthorities': 'string'\n",
    "    },\n",
    "    na_values=[-8]\n",
    ")\n",
    "\n",
    "# View the first few rows\n",
    "df.head()"
   ]
  },
  {
   "cell_type": "code",
   "execution_count": 4,
   "id": "85742853-43fd-43c0-898d-f7f9ec0635cb",
   "metadata": {},
   "outputs": [
    {
     "name": "stdout",
     "output_type": "stream",
     "text": [
      "<class 'pandas.core.frame.DataFrame'>\n",
      "RangeIndex: 341465 entries, 0 to 341464\n",
      "Columns: 459 entries, AAGE to YVARY99\n",
      "dtypes: Int64(1), float64(231), int64(212), object(14), string(1)\n",
      "memory usage: 1.2+ GB\n"
     ]
    }
   ],
   "source": [
    "df.info()"
   ]
  },
  {
   "cell_type": "markdown",
   "id": "faea073c-b87d-4b69-8dfc-31eb98432d47",
   "metadata": {},
   "source": [
    "There are 341465 entries and 459 attributes."
   ]
  },
  {
   "cell_type": "code",
   "execution_count": 6,
   "id": "3b98e217-46de-4d4e-83a0-b2c2404827a2",
   "metadata": {},
   "outputs": [
    {
     "data": {
      "text/plain": [
       "ACTWKDY1     552\n",
       "ADDJOB        22\n",
       "ANXIOUS     1082\n",
       "APPR12         3\n",
       "APPRCURR       4\n",
       "            ... \n",
       "YPAYM          9\n",
       "YPTJOB       253\n",
       "YSTART         8\n",
       "YTETJB         1\n",
       "YVARY99       12\n",
       "Length: 220, dtype: int64"
      ]
     },
     "execution_count": 6,
     "metadata": {},
     "output_type": "execute_result"
    }
   ],
   "source": [
    "# Count missing values in each column\n",
    "missing_counts = df.isna().sum()\n",
    "\n",
    "# Display missing values only for columns that have any\n",
    "missing_counts[missing_counts > 0]"
   ]
  },
  {
   "cell_type": "markdown",
   "id": "99079182-4cb6-4407-b927-ec9321f25fb5",
   "metadata": {},
   "source": [
    "First to start off the MSc project we need a measurement for the personal wellbeing level of UK citizens.\n",
    "\n",
    "Pos.348(SATIS)-Overall, how satisfied are you with your life nowadays?\n",
    "\n",
    "Pos.441(WORTH)-Overall, to what extent do you feel the things you do in your life are worthwhile?\n",
    "\n",
    "Pos.122(HAPPY)-Overall, how happy did you feel yesterday?\n",
    "\n",
    "Pos.15(ANXIOUS)-Overall, how anxious did you feel yesterday?\n",
    "\n",
    "These 4 questions are about personal wellbeings and citizens are asked to respond on a scale of 0 to 10, making it easy for us to analyze. Estimates is then produced by taking the mean ratings of the 4 wellbeing questions. For life satisfaction, life worthwhile and happiness will be combined into one score and anxiety will be done seperatly because they dont mean the same for scores."
   ]
  },
  {
   "cell_type": "code",
   "execution_count": 8,
   "id": "c6b9919a-8dfc-44cb-87d3-29ce9d32b7f1",
   "metadata": {},
   "outputs": [
    {
     "data": {
      "text/html": [
       "<div>\n",
       "<style scoped>\n",
       "    .dataframe tbody tr th:only-of-type {\n",
       "        vertical-align: middle;\n",
       "    }\n",
       "\n",
       "    .dataframe tbody tr th {\n",
       "        vertical-align: top;\n",
       "    }\n",
       "\n",
       "    .dataframe thead th {\n",
       "        text-align: right;\n",
       "    }\n",
       "</style>\n",
       "<table border=\"1\" class=\"dataframe\">\n",
       "  <thead>\n",
       "    <tr style=\"text-align: right;\">\n",
       "      <th></th>\n",
       "      <th>SATIS</th>\n",
       "      <th>WORTH</th>\n",
       "      <th>HAPPY</th>\n",
       "      <th>Wellbeing</th>\n",
       "    </tr>\n",
       "  </thead>\n",
       "  <tbody>\n",
       "    <tr>\n",
       "      <th>0</th>\n",
       "      <td>8.0</td>\n",
       "      <td>8.0</td>\n",
       "      <td>7.0</td>\n",
       "      <td>7.666667</td>\n",
       "    </tr>\n",
       "    <tr>\n",
       "      <th>1</th>\n",
       "      <td>10.0</td>\n",
       "      <td>8.0</td>\n",
       "      <td>10.0</td>\n",
       "      <td>9.333333</td>\n",
       "    </tr>\n",
       "    <tr>\n",
       "      <th>2</th>\n",
       "      <td>10.0</td>\n",
       "      <td>9.0</td>\n",
       "      <td>10.0</td>\n",
       "      <td>9.666667</td>\n",
       "    </tr>\n",
       "    <tr>\n",
       "      <th>3</th>\n",
       "      <td>-9.0</td>\n",
       "      <td>-9.0</td>\n",
       "      <td>-9.0</td>\n",
       "      <td>-9.000000</td>\n",
       "    </tr>\n",
       "    <tr>\n",
       "      <th>4</th>\n",
       "      <td>8.0</td>\n",
       "      <td>5.0</td>\n",
       "      <td>8.0</td>\n",
       "      <td>7.000000</td>\n",
       "    </tr>\n",
       "  </tbody>\n",
       "</table>\n",
       "</div>"
      ],
      "text/plain": [
       "   SATIS  WORTH  HAPPY  Wellbeing\n",
       "0    8.0    8.0    7.0   7.666667\n",
       "1   10.0    8.0   10.0   9.333333\n",
       "2   10.0    9.0   10.0   9.666667\n",
       "3   -9.0   -9.0   -9.0  -9.000000\n",
       "4    8.0    5.0    8.0   7.000000"
      ]
     },
     "execution_count": 8,
     "metadata": {},
     "output_type": "execute_result"
    }
   ],
   "source": [
    "# Create Wellbeing column\n",
    "df['Wellbeing'] = df[['SATIS', 'WORTH', 'HAPPY']].mean(axis=1, skipna=True)\n",
    "\n",
    "# Check the result\n",
    "df[['SATIS', 'WORTH', 'HAPPY', 'Wellbeing']].head()"
   ]
  },
  {
   "cell_type": "markdown",
   "id": "56900440-e8fe-4852-bf46-8fc8a8c0fecf",
   "metadata": {},
   "source": [
    "The following code creates labels for hresholds for life satisfaction, worthwhile, happiness and anxiety scores."
   ]
  },
  {
   "cell_type": "code",
   "execution_count": 10,
   "id": "49a6916a-3786-47b8-a45d-8d48bf6c4291",
   "metadata": {},
   "outputs": [
    {
     "data": {
      "text/html": [
       "<div>\n",
       "<style scoped>\n",
       "    .dataframe tbody tr th:only-of-type {\n",
       "        vertical-align: middle;\n",
       "    }\n",
       "\n",
       "    .dataframe tbody tr th {\n",
       "        vertical-align: top;\n",
       "    }\n",
       "\n",
       "    .dataframe thead th {\n",
       "        text-align: right;\n",
       "    }\n",
       "</style>\n",
       "<table border=\"1\" class=\"dataframe\">\n",
       "  <thead>\n",
       "    <tr style=\"text-align: right;\">\n",
       "      <th></th>\n",
       "      <th>Wellbeing</th>\n",
       "      <th>Wellbeing_category</th>\n",
       "      <th>ANXIOUS</th>\n",
       "      <th>Anxiety_category</th>\n",
       "    </tr>\n",
       "  </thead>\n",
       "  <tbody>\n",
       "    <tr>\n",
       "      <th>0</th>\n",
       "      <td>7.666667</td>\n",
       "      <td>High</td>\n",
       "      <td>7.0</td>\n",
       "      <td>High</td>\n",
       "    </tr>\n",
       "    <tr>\n",
       "      <th>1</th>\n",
       "      <td>9.333333</td>\n",
       "      <td>Very high</td>\n",
       "      <td>0.0</td>\n",
       "      <td>Very low</td>\n",
       "    </tr>\n",
       "    <tr>\n",
       "      <th>2</th>\n",
       "      <td>9.666667</td>\n",
       "      <td>Very high</td>\n",
       "      <td>0.0</td>\n",
       "      <td>Very low</td>\n",
       "    </tr>\n",
       "    <tr>\n",
       "      <th>3</th>\n",
       "      <td>&lt;NA&gt;</td>\n",
       "      <td>&lt;NA&gt;</td>\n",
       "      <td>&lt;NA&gt;</td>\n",
       "      <td>&lt;NA&gt;</td>\n",
       "    </tr>\n",
       "    <tr>\n",
       "      <th>4</th>\n",
       "      <td>7.0</td>\n",
       "      <td>High</td>\n",
       "      <td>1.0</td>\n",
       "      <td>Very low</td>\n",
       "    </tr>\n",
       "  </tbody>\n",
       "</table>\n",
       "</div>"
      ],
      "text/plain": [
       "  Wellbeing Wellbeing_category ANXIOUS Anxiety_category\n",
       "0  7.666667               High     7.0             High\n",
       "1  9.333333          Very high     0.0         Very low\n",
       "2  9.666667          Very high     0.0         Very low\n",
       "3      <NA>               <NA>    <NA>             <NA>\n",
       "4       7.0               High     1.0         Very low"
      ]
     },
     "execution_count": 10,
     "metadata": {},
     "output_type": "execute_result"
    }
   ],
   "source": [
    "# Replace missing codes in ANXIOUS column\n",
    "df['Wellbeing'] = df['Wellbeing'].replace([-9, -8], pd.NA)\n",
    "def classify_wellbeing(score):\n",
    "    if pd.isna(score):\n",
    "        return pd.NA\n",
    "    elif score <= 4:\n",
    "        return 'Low'\n",
    "    elif score <= 6:\n",
    "        return 'Medium'\n",
    "    elif score <= 8:\n",
    "        return 'High'\n",
    "    else:\n",
    "        return 'Very high'\n",
    "\n",
    "df['Wellbeing_category'] = df['Wellbeing'].apply(classify_wellbeing)\n",
    "\n",
    "# Replace missing codes in ANXIOUS column\n",
    "df['ANXIOUS'] = df['ANXIOUS'].replace([-9, -8], pd.NA)\n",
    "\n",
    "def classify_anxiety(score):\n",
    "    if pd.isna(score):\n",
    "        return pd.NA\n",
    "    elif score <= 1:\n",
    "        return 'Very low'\n",
    "    elif score <= 3:\n",
    "        return 'Low'\n",
    "    elif score <= 5:\n",
    "        return 'Medium'\n",
    "    else:\n",
    "        return 'High'\n",
    "\n",
    "df['Anxiety_category'] = df['ANXIOUS'].apply(classify_anxiety)\n",
    "\n",
    "df[['Wellbeing', 'Wellbeing_category', 'ANXIOUS', 'Anxiety_category']].head()"
   ]
  },
  {
   "cell_type": "code",
   "execution_count": 11,
   "id": "1d0d42ad-f595-4136-b8e1-e1b6a1328f43",
   "metadata": {},
   "outputs": [
    {
     "data": {
      "text/plain": [
       "Wellbeing             169132\n",
       "Wellbeing_category    169132\n",
       "ANXIOUS               169369\n",
       "Anxiety_category      169369\n",
       "dtype: int64"
      ]
     },
     "execution_count": 11,
     "metadata": {},
     "output_type": "execute_result"
    }
   ],
   "source": [
    "df[['Wellbeing', 'Wellbeing_category', 'ANXIOUS', 'Anxiety_category']].isna().sum()"
   ]
  },
  {
   "cell_type": "markdown",
   "id": "3d5ec3bc-a179-41f5-a223-545fb3e656fb",
   "metadata": {},
   "source": [
    "Wellbeing and anxious is our 2 most important measurements, so if data are missing in both of these attributes predictions cannot be made, to prevent bias the entire row is dropped if both Wellbeing and ANXIOUS are missing."
   ]
  },
  {
   "cell_type": "code",
   "execution_count": 13,
   "id": "59a90a75-41d0-4d8e-86af-2480e24b7203",
   "metadata": {},
   "outputs": [
    {
     "data": {
      "text/plain": [
       "Wellbeing     11\n",
       "ANXIOUS      248\n",
       "dtype: int64"
      ]
     },
     "execution_count": 13,
     "metadata": {},
     "output_type": "execute_result"
    }
   ],
   "source": [
    "cleaned = df[~(df['Wellbeing'].isna() & df['ANXIOUS'].isna())]\n",
    "\n",
    "cleaned[['Wellbeing', 'ANXIOUS']].isna().sum()"
   ]
  },
  {
   "cell_type": "markdown",
   "id": "8566926e-573c-443b-88e6-3752456a01e5",
   "metadata": {},
   "source": [
    "In this reasearch of wellbeing interviewees with age under 16 will be excluded since lots of the determinants are targetted to audiences over 16 and doesnt apply on non adults."
   ]
  },
  {
   "cell_type": "code",
   "execution_count": 15,
   "id": "1d1a907d-c16a-4029-962e-752038f99f85",
   "metadata": {},
   "outputs": [
    {
     "name": "stdout",
     "output_type": "stream",
     "text": [
      "AAGE\n",
      "2       293\n",
      "3       525\n",
      "4      2909\n",
      "5      6573\n",
      "6      9586\n",
      "7     10685\n",
      "8     11510\n",
      "9     11813\n",
      "10    14584\n",
      "11    17031\n",
      "12    18517\n",
      "13    68318\n",
      "Name: count, dtype: int64\n"
     ]
    }
   ],
   "source": [
    "# Remove rows where AAGE indicates \"Under 16\"\n",
    "cleaned = cleaned[cleaned['AAGE'] != 1.0]\n",
    "print(cleaned['AAGE'].value_counts().sort_index())"
   ]
  },
  {
   "cell_type": "code",
   "execution_count": 16,
   "id": "abe407de-681e-49c0-9e0f-55c056244245",
   "metadata": {},
   "outputs": [
    {
     "data": {
      "text/plain": [
       "AAGE           0\n",
       "SEX            0\n",
       "ETHUKEUL     259\n",
       "NATIDB11     419\n",
       "MARDY6         0\n",
       "ILODEFR        0\n",
       "TEN1         181\n",
       "DISCURR20      0\n",
       "HIQUL15D     171\n",
       "IN0792SM     391\n",
       "RELIGE       477\n",
       "GOR9d          0\n",
       "dtype: int64"
      ]
     },
     "execution_count": 16,
     "metadata": {},
     "output_type": "execute_result"
    }
   ],
   "source": [
    "df[['AAGE','SEX','ETHUKEUL','NATIDB11','MARDY6','ILODEFR','TEN1','DISCURR20','HIQUL15D','IN0792SM','RELIGE','GOR9d']].isna().sum()"
   ]
  },
  {
   "cell_type": "code",
   "execution_count": 44,
   "id": "5d4a2dee-9f8b-4ffc-9525-295a933bcd7e",
   "metadata": {},
   "outputs": [
    {
     "name": "stdout",
     "output_type": "stream",
     "text": [
      "Train: (113859, 21), Validation: (24399, 21), Test: (24399, 21)\n"
     ]
    }
   ],
   "source": [
    "import pandas as pd\n",
    "from sklearn.model_selection import train_test_split\n",
    "\n",
    "# Define relevant columns\n",
    "columns = {\n",
    "    'AGE': 'AAGE',\n",
    "    'SEX': 'SEX',\n",
    "    'ETHNICITY': 'ETHUKEUL',\n",
    "    'MIGRATION': 'NATIDB11',\n",
    "    'REL_STATUS': 'MARDY6',\n",
    "    'ECON_ACTIVITY': 'ILODEFR',\n",
    "    'TENURE': 'TEN1',\n",
    "    'DISABILITY': 'DISCURR20',\n",
    "    'QUALIFICATION': 'HIQUL15D',\n",
    "    'SOCIO_ECON': 'IN0792SM',\n",
    "    'RELIGION': 'RELIG11',\n",
    "    'REGION': 'GOR9d',\n",
    "}\n",
    "\n",
    "# Add 'Wellbeing' to list of relevant columns\n",
    "relevant_cols = list(columns.values()) + ['Wellbeing']\n",
    "\n",
    "# Drop rows with missing values in relevant predictors or target\n",
    "model_df = cleaned.dropna(subset=relevant_cols).copy()\n",
    "\n",
    "# Define features and target\n",
    "X = model_df[[v for v in columns.values()]]\n",
    "y = model_df['Wellbeing']\n",
    "\n",
    "# One-hot encode categorical variables\n",
    "X_encoded = pd.get_dummies(X, drop_first=True)\n",
    "\n",
    "# First split - 70% train, 30% temp\n",
    "X_train, X_temp, y_train, y_temp = train_test_split(\n",
    "    X_encoded, y, test_size=0.30, random_state=42\n",
    ")\n",
    "\n",
    "# Second split- 50% of temp = 15% val, 15% test\n",
    "X_val, X_test, y_val, y_test = train_test_split(\n",
    "    X_temp, y_temp, test_size=0.50, random_state=42\n",
    ")\n",
    "\n",
    "# Output shapes\n",
    "print(f\"Train: {X_train.shape}, Validation: {X_val.shape}, Test: {X_test.shape}\")"
   ]
  },
  {
   "cell_type": "code",
   "execution_count": 46,
   "id": "3dcac86d-2404-495e-819e-a5b4bece8e9f",
   "metadata": {},
   "outputs": [
    {
     "name": "stdout",
     "output_type": "stream",
     "text": [
      "Validation MSE: 2.399\n",
      "Validation R²: 0.066\n"
     ]
    }
   ],
   "source": [
    "from sklearn.linear_model import LinearRegression\n",
    "from sklearn.metrics import mean_squared_error, r2_score\n",
    "\n",
    "# Step 1: Fit the model\n",
    "lr_model = LinearRegression()\n",
    "lr_model.fit(X_train, y_train)\n",
    "\n",
    "# Step 2: Predict on validation set\n",
    "y_val_pred = lr_model.predict(X_val)\n",
    "\n",
    "# Step 3: Evaluate performance\n",
    "mse = mean_squared_error(y_val, y_val_pred)\n",
    "r2 = r2_score(y_val, y_val_pred)\n",
    "\n",
    "print(f\"Validation MSE: {mse:.3f}\")\n",
    "print(f\"Validation R²: {r2:.3f}\")"
   ]
  },
  {
   "cell_type": "code",
   "execution_count": 48,
   "id": "a6a4ff9e-eeaa-464a-8c88-53bc8f792115",
   "metadata": {},
   "outputs": [
    {
     "data": {
      "text/html": [
       "<style type=\"text/css\">\n",
       "</style>\n",
       "<table id=\"T_d4042\">\n",
       "  <thead>\n",
       "    <tr>\n",
       "      <th class=\"blank level0\" >&nbsp;</th>\n",
       "      <th id=\"T_d4042_level0_col0\" class=\"col_heading level0 col0\" >Feature</th>\n",
       "      <th id=\"T_d4042_level0_col1\" class=\"col_heading level0 col1\" >Coefficient</th>\n",
       "    </tr>\n",
       "  </thead>\n",
       "  <tbody>\n",
       "    <tr>\n",
       "      <th id=\"T_d4042_level0_row0\" class=\"row_heading level0 row0\" >4</th>\n",
       "      <td id=\"T_d4042_row0_col0\" class=\"data row0 col0\" >MARDY6</td>\n",
       "      <td id=\"T_d4042_row0_col1\" class=\"data row0 col1\" >-0.5772</td>\n",
       "    </tr>\n",
       "    <tr>\n",
       "      <th id=\"T_d4042_level0_row1\" class=\"row_heading level0 row1\" >6</th>\n",
       "      <td id=\"T_d4042_row1_col0\" class=\"data row1 col0\" >TEN1</td>\n",
       "      <td id=\"T_d4042_row1_col1\" class=\"data row1 col1\" >-0.1478</td>\n",
       "    </tr>\n",
       "    <tr>\n",
       "      <th id=\"T_d4042_level0_row2\" class=\"row_heading level0 row2\" >1</th>\n",
       "      <td id=\"T_d4042_row2_col0\" class=\"data row2 col0\" >SEX</td>\n",
       "      <td id=\"T_d4042_row2_col1\" class=\"data row2 col1\" >0.0662</td>\n",
       "    </tr>\n",
       "    <tr>\n",
       "      <th id=\"T_d4042_level0_row3\" class=\"row_heading level0 row3\" >19</th>\n",
       "      <td id=\"T_d4042_row3_col0\" class=\"data row3 col0\" >GOR9d_S99999999</td>\n",
       "      <td id=\"T_d4042_row3_col1\" class=\"data row3 col1\" >0.0550</td>\n",
       "    </tr>\n",
       "    <tr>\n",
       "      <th id=\"T_d4042_level0_row4\" class=\"row_heading level0 row4\" >0</th>\n",
       "      <td id=\"T_d4042_row4_col0\" class=\"data row4 col0\" >AAGE</td>\n",
       "      <td id=\"T_d4042_row4_col1\" class=\"data row4 col1\" >0.0446</td>\n",
       "    </tr>\n",
       "    <tr>\n",
       "      <th id=\"T_d4042_level0_row5\" class=\"row_heading level0 row5\" >7</th>\n",
       "      <td id=\"T_d4042_row5_col0\" class=\"data row5 col0\" >DISCURR20</td>\n",
       "      <td id=\"T_d4042_row5_col1\" class=\"data row5 col1\" >0.0398</td>\n",
       "    </tr>\n",
       "    <tr>\n",
       "      <th id=\"T_d4042_level0_row6\" class=\"row_heading level0 row6\" >16</th>\n",
       "      <td id=\"T_d4042_row6_col0\" class=\"data row6 col0\" >GOR9d_E12000007</td>\n",
       "      <td id=\"T_d4042_row6_col1\" class=\"data row6 col1\" >-0.0317</td>\n",
       "    </tr>\n",
       "    <tr>\n",
       "      <th id=\"T_d4042_level0_row7\" class=\"row_heading level0 row7\" >5</th>\n",
       "      <td id=\"T_d4042_row7_col0\" class=\"data row7 col0\" >ILODEFR</td>\n",
       "      <td id=\"T_d4042_row7_col1\" class=\"data row7 col1\" >0.0301</td>\n",
       "    </tr>\n",
       "    <tr>\n",
       "      <th id=\"T_d4042_level0_row8\" class=\"row_heading level0 row8\" >20</th>\n",
       "      <td id=\"T_d4042_row8_col0\" class=\"data row8 col0\" >GOR9d_W99999999</td>\n",
       "      <td id=\"T_d4042_row8_col1\" class=\"data row8 col1\" >0.0295</td>\n",
       "    </tr>\n",
       "    <tr>\n",
       "      <th id=\"T_d4042_level0_row9\" class=\"row_heading level0 row9\" >15</th>\n",
       "      <td id=\"T_d4042_row9_col0\" class=\"data row9 col0\" >GOR9d_E12000006</td>\n",
       "      <td id=\"T_d4042_row9_col1\" class=\"data row9 col1\" >0.0241</td>\n",
       "    </tr>\n",
       "    <tr>\n",
       "      <th id=\"T_d4042_level0_row10\" class=\"row_heading level0 row10\" >10</th>\n",
       "      <td id=\"T_d4042_row10_col0\" class=\"data row10 col0\" >RELIG11</td>\n",
       "      <td id=\"T_d4042_row10_col1\" class=\"data row10 col1\" >0.0203</td>\n",
       "    </tr>\n",
       "    <tr>\n",
       "      <th id=\"T_d4042_level0_row11\" class=\"row_heading level0 row11\" >12</th>\n",
       "      <td id=\"T_d4042_row11_col0\" class=\"data row11 col0\" >GOR9d_E12000003</td>\n",
       "      <td id=\"T_d4042_row11_col1\" class=\"data row11 col1\" >0.0197</td>\n",
       "    </tr>\n",
       "    <tr>\n",
       "      <th id=\"T_d4042_level0_row12\" class=\"row_heading level0 row12\" >3</th>\n",
       "      <td id=\"T_d4042_row12_col0\" class=\"data row12 col0\" >NATIDB11</td>\n",
       "      <td id=\"T_d4042_row12_col1\" class=\"data row12 col1\" >-0.0171</td>\n",
       "    </tr>\n",
       "    <tr>\n",
       "      <th id=\"T_d4042_level0_row13\" class=\"row_heading level0 row13\" >2</th>\n",
       "      <td id=\"T_d4042_row13_col0\" class=\"data row13 col0\" >ETHUKEUL</td>\n",
       "      <td id=\"T_d4042_row13_col1\" class=\"data row13 col1\" >0.0142</td>\n",
       "    </tr>\n",
       "    <tr>\n",
       "      <th id=\"T_d4042_level0_row14\" class=\"row_heading level0 row14\" >9</th>\n",
       "      <td id=\"T_d4042_row14_col0\" class=\"data row14 col0\" >IN0792SM</td>\n",
       "      <td id=\"T_d4042_row14_col1\" class=\"data row14 col1\" >0.0127</td>\n",
       "    </tr>\n",
       "  </tbody>\n",
       "</table>\n"
      ],
      "text/plain": [
       "<pandas.io.formats.style.Styler at 0x1429e3800>"
      ]
     },
     "execution_count": 48,
     "metadata": {},
     "output_type": "execute_result"
    }
   ],
   "source": [
    "# Create DataFrame of coefficients\n",
    "coeff_df = pd.DataFrame({\n",
    "    'Feature': X_train.columns,\n",
    "    'Coefficient': lr_model.coef_\n",
    "}).sort_values(by='Coefficient', key=abs, ascending=False)\n",
    "\n",
    "# Show top 15 features by absolute influence\n",
    "coeff_df.head(15).style.format({'Coefficient': '{:.4f}'})"
   ]
  },
  {
   "cell_type": "markdown",
   "id": "945e9145-8c15-4dcb-916d-77ee42140ea0",
   "metadata": {},
   "source": [
    "So these are the top 15 attritubes that affects wellbeing from higher influence to low."
   ]
  },
  {
   "cell_type": "code",
   "execution_count": 51,
   "id": "faf7341d-888a-4dca-9f5d-047969584ced",
   "metadata": {},
   "outputs": [
    {
     "data": {
      "image/png": "[encoded data removed]",
      "text/plain": [
       "<Figure size 1000x600 with 1 Axes>"
      ]
     },
     "metadata": {},
     "output_type": "display_data"
    }
   ],
   "source": [
    "import matplotlib.pyplot as plt\n",
    "\n",
    "\n",
    "# Bar chart of top 15 features by absolute coefficient\n",
    "top15 = coeff_df.head(15)\n",
    "\n",
    "plt.figure(figsize=(10, 6))\n",
    "plt.barh(top15['Feature'][::-1], top15['Coefficient'][::-1])  # reverse for descending order\n",
    "plt.xlabel('Coefficient Value')\n",
    "plt.title('Top 15 Most Influential Features on Wellbeing (Linear Regression)')\n",
    "plt.grid(True, axis='x', linestyle='--', alpha=0.7)\n",
    "plt.tight_layout()\n",
    "plt.show()"
   ]
  }
 ],
 "metadata": {
  "kernelspec": {
   "display_name": "Python 3 (ipykernel)",
   "language": "python",
   "name": "python3"
  },
  "language_info": {
   "codemirror_mode": {
    "name": "ipython",
    "version": 3
   },
   "file_extension": ".py",
   "mimetype": "text/x-python",
   "name": "python",
   "nbconvert_exporter": "python",
   "pygments_lexer": "ipython3",
   "version": "3.12.4"
  }
 },
 "nbformat": 4,
 "nbformat_minor": 5
}
